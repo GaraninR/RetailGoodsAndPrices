{
 "cells": [
  {
   "cell_type": "code",
   "execution_count": 1,
   "metadata": {},
   "outputs": [],
   "source": [
    "from pathlib import Path\n",
    "\n",
    "Path('orders').mkdir(exist_ok=True)"
   ]
  },
  {
   "cell_type": "code",
   "execution_count": 2,
   "metadata": {},
   "outputs": [],
   "source": [
    "import pandas as pd\n",
    "import datetime\n",
    "import random"
   ]
  },
  {
   "cell_type": "code",
   "execution_count": 3,
   "metadata": {},
   "outputs": [],
   "source": [
    "sales_start_date = datetime.datetime(2020, 1, 1)\n",
    "sales_end_date = datetime.datetime(2021, 12, 31)"
   ]
  },
  {
   "cell_type": "code",
   "execution_count": 4,
   "metadata": {},
   "outputs": [],
   "source": [
    "retail_prices = pd.read_csv('./normalized/05_retail_prices.csv', sep='\\t')\n",
    "median = retail_prices['Retail price (USD)'].median()\n",
    "price_for_cheap_items = round(median / 3, 2)"
   ]
  },
  {
   "cell_type": "code",
   "execution_count": 5,
   "metadata": {},
   "outputs": [],
   "source": [
    "sugg_operations_per_day = 8\n",
    "min_sugg_operations_per_day = round(sugg_operations_per_day * (1 - 0.3), 0)\n",
    "max_sugg_operations_per_day = sugg_operations_per_day * 5\n",
    "min_sugg_operations_per_day_new_year = round(min_sugg_operations_per_day * (1 + 0.35), 0)\n",
    "max_sugg_operations_per_day_new_year = round(max_sugg_operations_per_day * (1 + 0.45), 0)\n",
    "min_sugg_operations_per_day_january = round(min_sugg_operations_per_day * (1 - 0.6), 0)\n",
    "max_sugg_operations_per_day_january = round(max_sugg_operations_per_day * (1 - 0.5), 0)"
   ]
  },
  {
   "cell_type": "code",
   "execution_count": 6,
   "metadata": {},
   "outputs": [],
   "source": [
    "orders_columns = ['Date', 'SalespointCode', 'ItemCode', 'Qty', 'DiscountCardID']\n",
    "orders = pd.DataFrame(columns=orders_columns)\n",
    "\n",
    "items = pd.read_csv('./normalized/04_items.csv', sep='\\t')\n",
    "salespoints = pd.read_excel('./data/SalesPoints.xlsx')\n",
    "discount_cards = pd.read_csv('./data/Discount_cards.csv')\n",
    "\n",
    "sales_date = sales_start_date\n",
    "\n",
    "while sales_date <= sales_end_date:\n",
    "    \n",
    "    if (sales_date.month == 12 and sales_date.day > 14):\n",
    "        number_of_orders = random.randint(min_sugg_operations_per_day_new_year, max_sugg_operations_per_day_new_year)\n",
    "    elif (sales_date.month == 1 and sales_date.day < 14):\n",
    "        number_of_orders = random.randint(min_sugg_operations_per_day_january, max_sugg_operations_per_day_january)\n",
    "    else:\n",
    "        number_of_orders = random.randint(min_sugg_operations_per_day, max_sugg_operations_per_day)\n",
    "    \n",
    "    for i in range(0, number_of_orders):\n",
    "        \n",
    "        item_line = random.randint(0, len(items) - 1)\n",
    "        item_code = items['Code'][item_line]\n",
    "        item_retail_price = retail_prices[retail_prices['Code'] == item_code].iloc[0]['Retail price (USD)']\n",
    "        \n",
    "        qty = 1\n",
    "        \n",
    "        if random.randint(1, 12) == 2: qty = 2\n",
    "        if random.randint(1, 24) == 3: qty = 3\n",
    "        if random.randint(1, 128) == 4 and item_retail_price <= price_for_cheap_items: qty = random.randint(4, 11)\n",
    "        if random.randint(1, 256) == 5 and item_retail_price <= price_for_cheap_items: qty = random.randint(5, 15)\n",
    "        if random.randint(1, 312) == 6 and item_retail_price <= price_for_cheap_items: qty = random.randint(6, 21)\n",
    "        \n",
    "        salespoint_line = random.randint(0, len(salespoints) - 1)\n",
    "        salespoint_code = salespoints['Sales Point'][salespoint_line]\n",
    "        \n",
    "        \n",
    "        discount_card_id = discount_cards['id'][random.randint(0, len(discount_cards) - 1)] if random.randint(1, random.randint(1, 25)) < 4 else 0\n",
    "            \n",
    "        new_order = pd.DataFrame([{\n",
    "            'Date': sales_date, \n",
    "            'SalespointCode': salespoint_code, \n",
    "            'ItemCode': item_code,\n",
    "            'Qty': qty,\n",
    "            'DiscountCardID': discount_card_id if discount_card_id != 0 else None}])\n",
    "        \n",
    "        orders = pd.concat([orders, new_order], ignore_index=True)\n",
    "    sales_date += datetime.timedelta(days=1)\n",
    "    \n",
    "orders['ID'] = orders.index + 1\n",
    "orders_columns.insert(0, 'ID')\n",
    "orders.to_csv('./orders/orders.csv', sep='\\t', index=False, columns=orders_columns)"
   ]
  }
 ],
 "metadata": {
  "kernelspec": {
   "display_name": "retailgoodsandprices-GRxhhDj3-py3.10",
   "language": "python",
   "name": "python3"
  },
  "language_info": {
   "codemirror_mode": {
    "name": "ipython",
    "version": 3
   },
   "file_extension": ".py",
   "mimetype": "text/x-python",
   "name": "python",
   "nbconvert_exporter": "python",
   "pygments_lexer": "ipython3",
   "version": "3.10.11"
  },
  "orig_nbformat": 4
 },
 "nbformat": 4,
 "nbformat_minor": 2
}
