{
 "cells": [
  {
   "cell_type": "code",
   "execution_count": 1,
   "metadata": {},
   "outputs": [],
   "source": [
    "import pandas as pd\n",
    "\n",
    "markup_percentage = 5 # %\n",
    "\n",
    "retail_goods_and_prices_csv = pd.read_csv('./normalized/05_wholesale_prices.csv', sep='\\t')\n",
    "retail_goods_and_prices_csv['Retail price (USD) Raw'] = retail_goods_and_prices_csv['Wholesale price (USD)'] * (1 + 0.01 * markup_percentage)\n",
    "retail_goods_and_prices_csv['Retail price (USD)'] = retail_goods_and_prices_csv['Retail price (USD) Raw'].round(2)\n",
    "\n",
    "retail_goods_and_prices_csv.to_csv('./normalized/06_retail_prices.csv', index=False, sep='\\t', columns=['Code', 'Retail price (USD)'])"
   ]
  }
 ],
 "metadata": {
  "kernelspec": {
   "display_name": "retailgoodsandprices-GRxhhDj3-py3.10",
   "language": "python",
   "name": "python3"
  },
  "language_info": {
   "codemirror_mode": {
    "name": "ipython",
    "version": 3
   },
   "file_extension": ".py",
   "mimetype": "text/x-python",
   "name": "python",
   "nbconvert_exporter": "python",
   "pygments_lexer": "ipython3",
   "version": "3.10.11"
  },
  "orig_nbformat": 4
 },
 "nbformat": 4,
 "nbformat_minor": 2
}
