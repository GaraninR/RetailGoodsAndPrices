{
 "cells": [
  {
   "cell_type": "code",
   "execution_count": 8,
   "metadata": {},
   "outputs": [],
   "source": [
    "import pandas as pd\n",
    "\n",
    "number_of_items = 150\n",
    "\n",
    "retail_goods_and_prices_csv = pd.read_csv('./data/RetailGoodsAndPrices.csv', sep='\\t')\n",
    "retail_goods_and_prices_sample = retail_goods_and_prices_csv.sample(number_of_items)\n",
    "retail_goods_and_prices_sample = retail_goods_and_prices_sample.drop('Code', axis=1)\n",
    "retail_goods_and_prices_sample.reset_index(drop=True, inplace=True)\n",
    "retail_goods_and_prices_sample['Code'] = retail_goods_and_prices_sample.index + 1\n",
    "retail_goods_and_prices_sample.to_csv('./data/RetailGoodsAndPricesSample.csv', index=False, sep='\\t', columns=['Code', 'Group', 'Subgroup', 'Brand', 'Item', 'Description', 'Wholesale price (USD)'])"
   ]
  }
 ],
 "metadata": {
  "kernelspec": {
   "display_name": "retailgoodsandprices-GRxhhDj3-py3.10",
   "language": "python",
   "name": "python3"
  },
  "language_info": {
   "codemirror_mode": {
    "name": "ipython",
    "version": 3
   },
   "file_extension": ".py",
   "mimetype": "text/x-python",
   "name": "python",
   "nbconvert_exporter": "python",
   "pygments_lexer": "ipython3",
   "version": "3.10.11"
  },
  "orig_nbformat": 4
 },
 "nbformat": 4,
 "nbformat_minor": 2
}
