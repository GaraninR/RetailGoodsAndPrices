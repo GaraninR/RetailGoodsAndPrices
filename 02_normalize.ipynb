{
 "cells": [
  {
   "cell_type": "code",
   "execution_count": 1,
   "metadata": {},
   "outputs": [],
   "source": [
    "from pathlib import Path\n",
    "\n",
    "Path('normalized').mkdir(exist_ok=True)"
   ]
  },
  {
   "cell_type": "code",
   "execution_count": 2,
   "metadata": {},
   "outputs": [],
   "source": [
    "import pandas as pd\n",
    "import numpy as np\n",
    "\n",
    "# data_file_name = 'RetailGoodsAndPrices.csv'\n",
    "data_file_name = 'RetailGoodsAndPricesSample.csv'\n",
    "\n",
    "retail_goods_and_prices_csv = pd.read_csv(f'./data/{data_file_name}', sep='\\t')"
   ]
  },
  {
   "cell_type": "code",
   "execution_count": 3,
   "metadata": {},
   "outputs": [],
   "source": [
    "def process_data(df, category_name, output_file):\n",
    "    \n",
    "    # Get unique values for category and sort\n",
    "    categories = df[category_name].unique()\n",
    "    categories = [x for x in categories if str(x) != 'nan']\n",
    "    categories = np.sort(categories)\n",
    "    \n",
    "    # Create dataframe\n",
    "    columns = [category_name]\n",
    "    cat_df = pd.DataFrame(categories, columns=columns)\n",
    "    \n",
    "    # Add ID column\n",
    "    cat_df['ID'] = cat_df.index + 1\n",
    "    \n",
    "    # Output to CSV\n",
    "    cat_df.to_csv(output_file, index=False, sep='\\t', columns=['ID', category_name])"
   ]
  },
  {
   "cell_type": "code",
   "execution_count": 4,
   "metadata": {},
   "outputs": [],
   "source": [
    "process_data(retail_goods_and_prices_csv, 'Group', './normalized/01_groups.csv')"
   ]
  },
  {
   "cell_type": "code",
   "execution_count": 5,
   "metadata": {},
   "outputs": [],
   "source": [
    "groups = pd.read_csv('./normalized/01_groups.csv', sep='\\t')\n",
    "subgroups_columns = ['Group', 'Subgroup', 'Group_ID']\n",
    "subgroups_df = pd.DataFrame(retail_goods_and_prices_csv, columns=subgroups_columns)\n",
    "subgroups_df = subgroups_df.sort_values('Subgroup').drop_duplicates().reset_index()\n",
    "    \n",
    "# Add ID column\n",
    "subgroups_df['ID'] = subgroups_df.index + 1\n",
    "\n",
    "for index, row in subgroups_df.iterrows():\n",
    "    group_id = groups[groups['Group'] == row['Group']].iloc[0]['ID']\n",
    "    subgroups_df.loc[index, 'Group_ID'] = str(group_id)\n",
    "    \n",
    "# Output to CSV\n",
    "subgroups_df.to_csv('./normalized/02_subgroups.csv', index=False, sep='\\t', columns=['ID', 'Group_ID', 'Subgroup'])"
   ]
  },
  {
   "cell_type": "code",
   "execution_count": 6,
   "metadata": {},
   "outputs": [],
   "source": [
    "process_data(retail_goods_and_prices_csv, 'Brand', './normalized/03_brands.csv')"
   ]
  },
  {
   "cell_type": "code",
   "execution_count": 7,
   "metadata": {},
   "outputs": [],
   "source": [
    "subgroups = pd.read_csv('./normalized/02_subgroups.csv', sep='\\t')\n",
    "brands = pd.read_csv('./normalized/03_brands.csv', sep='\\t')\n",
    "items_columns = ['Code', 'Subgroup', 'Brand', 'Subgroup_ID', 'Brand_ID', 'Item', 'Description']\n",
    "items_df = pd.DataFrame(retail_goods_and_prices_csv, columns=items_columns)\n",
    "\n",
    "\n",
    "for index, row in items_df.iterrows():\n",
    "    subgroup_id = subgroups[subgroups['Subgroup'] == row['Subgroup']].iloc[0]['ID']\n",
    "    brand_id = brands[brands['Brand'] == row['Brand']].iloc[0]['ID']\n",
    "    items_df.loc[index, 'Subgroup_ID'] = str(subgroup_id)\n",
    "    items_df.loc[index, 'Brand_ID'] = str(brand_id)\n",
    "    \n",
    "# Output to CSV\n",
    "items_df.to_csv('./normalized/04_items.csv', index=False, sep='\\t', columns=['Code', 'Subgroup_ID', 'Brand_ID', 'Item', 'Description'])"
   ]
  },
  {
   "cell_type": "code",
   "execution_count": 8,
   "metadata": {},
   "outputs": [],
   "source": [
    "retail_goods_and_prices_csv.to_csv('./normalized/05_wholesale_prices.csv', index=False, sep='\\t', columns=['Code', 'Wholesale price (USD)'])"
   ]
  }
 ],
 "metadata": {
  "kernelspec": {
   "display_name": "bienv",
   "language": "python",
   "name": "python3"
  },
  "language_info": {
   "codemirror_mode": {
    "name": "ipython",
    "version": 3
   },
   "file_extension": ".py",
   "mimetype": "text/x-python",
   "name": "python",
   "nbconvert_exporter": "python",
   "pygments_lexer": "ipython3",
   "version": "3.10.11"
  },
  "orig_nbformat": 4
 },
 "nbformat": 4,
 "nbformat_minor": 2
}
