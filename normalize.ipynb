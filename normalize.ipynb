{
 "cells": [
  {
   "cell_type": "code",
   "execution_count": 1,
   "metadata": {},
   "outputs": [],
   "source": [
    "from pathlib import Path\n",
    "\n",
    "Path('normalized').mkdir(exist_ok=True)"
   ]
  },
  {
   "cell_type": "code",
   "execution_count": 2,
   "metadata": {},
   "outputs": [],
   "source": [
    "import pandas as pd\n",
    "import numpy as np\n",
    "\n",
    "retail_goods_and_prices_csv = pd.read_csv('./data/RetailGoodsAndPrices.csv', sep='\\t')"
   ]
  },
  {
   "cell_type": "code",
   "execution_count": 4,
   "metadata": {},
   "outputs": [],
   "source": [
    "def process_data(df, category_name, output_file):\n",
    "    \n",
    "    # Get unique values for category and sort\n",
    "    categories = df[category_name].unique()\n",
    "    categories = [x for x in categories if str(x) != 'nan']\n",
    "    categories = np.sort(categories)\n",
    "    \n",
    "    # Create dataframe\n",
    "    columns = [category_name]\n",
    "    cat_df = pd.DataFrame(categories, columns=columns)\n",
    "    \n",
    "    # Add ID column\n",
    "    cat_df['ID'] = cat_df.index + 1\n",
    "    \n",
    "    # Swap columns\n",
    "    cols = list(cat_df.columns)\n",
    "    a, b = cols.index(category_name), cols.index('ID')\n",
    "    cols[b], cols[a] = cols[a], cols[b]\n",
    "    cat_df = cat_df[cols]\n",
    "    \n",
    "    # Output to CSV\n",
    "    cat_df.to_csv(output_file, index=False, sep='\\t')"
   ]
  },
  {
   "cell_type": "code",
   "execution_count": 5,
   "metadata": {},
   "outputs": [],
   "source": [
    "process_data(retail_goods_and_prices_csv, 'Group', './normalized/01_groups.csv')"
   ]
  },
  {
   "cell_type": "code",
   "execution_count": 6,
   "metadata": {},
   "outputs": [],
   "source": [
    "process_data(retail_goods_and_prices_csv, 'Brand', './normalized/03_brands.csv')"
   ]
  }
 ],
 "metadata": {
  "kernelspec": {
   "display_name": "bienv",
   "language": "python",
   "name": "python3"
  },
  "language_info": {
   "codemirror_mode": {
    "name": "ipython",
    "version": 3
   },
   "file_extension": ".py",
   "mimetype": "text/x-python",
   "name": "python",
   "nbconvert_exporter": "python",
   "pygments_lexer": "ipython3",
   "version": "3.8.10"
  },
  "orig_nbformat": 4
 },
 "nbformat": 4,
 "nbformat_minor": 2
}
