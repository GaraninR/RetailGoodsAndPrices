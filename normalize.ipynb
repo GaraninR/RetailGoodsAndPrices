{
 "cells": [
  {
   "cell_type": "code",
   "execution_count": 27,
   "metadata": {},
   "outputs": [],
   "source": [
    "from pathlib import Path\n",
    "\n",
    "Path('normalized').mkdir(exist_ok=True)"
   ]
  },
  {
   "cell_type": "code",
   "execution_count": 28,
   "metadata": {},
   "outputs": [],
   "source": [
    "import pandas as pd\n",
    "import numpy as np\n",
    "\n",
    "retail_goods_and_prices_csv = pd.read_csv('./data/RetailGoodsAndPrices.csv', sep='\\t')"
   ]
  },
  {
   "cell_type": "code",
   "execution_count": 29,
   "metadata": {},
   "outputs": [],
   "source": [
    "groups = retail_goods_and_prices_csv['Group'].unique()\n",
    "groups = [x for x in groups if str(x) != 'nan']\n",
    "groups = np.sort(groups)\n",
    "groups_columns = ['Group']\n",
    "groups_df = pd.DataFrame(groups, columns=groups_columns)\n",
    "groups_df['ID'] = groups_df.index + 1\n",
    "\n",
    "# columns swapping\n",
    "cols = list(groups_df.columns)\n",
    "a, b = cols.index('Group'), cols.index('ID')\n",
    "cols[b], cols[a] = cols[a], cols[b]\n",
    "groups_df = groups_df[cols]\n",
    "\n",
    "groups_df.to_csv('./normalized/01_groups.csv', index=False, sep='\\t')"
   ]
  },
  {
   "cell_type": "code",
   "execution_count": 35,
   "metadata": {},
   "outputs": [],
   "source": [
    "brands = retail_goods_and_prices_csv['Brand'].unique()\n",
    "brands = [x for x in brands if str(x) != 'nan']\n",
    "brands = np.sort(brands)\n",
    "brands_columns = ['Brand']\n",
    "brands_df = pd.DataFrame(brands, columns=brands_columns)\n",
    "brands_df['ID'] = brands_df.index + 1\n",
    "\n",
    "# columns swapping\n",
    "cols = list(brands_df.columns)\n",
    "a, b = cols.index('Brand'), cols.index('ID')\n",
    "cols[b], cols[a] = cols[a], cols[b]\n",
    "brands_df = brands_df[cols]\n",
    "\n",
    "brands_df.to_csv('./normalized/03_brands.csv', index=False, sep='\\t')"
   ]
  }
 ],
 "metadata": {
  "kernelspec": {
   "display_name": "bienv",
   "language": "python",
   "name": "python3"
  },
  "language_info": {
   "codemirror_mode": {
    "name": "ipython",
    "version": 3
   },
   "file_extension": ".py",
   "mimetype": "text/x-python",
   "name": "python",
   "nbconvert_exporter": "python",
   "pygments_lexer": "ipython3",
   "version": "3.8.10"
  },
  "orig_nbformat": 4
 },
 "nbformat": 4,
 "nbformat_minor": 2
}
