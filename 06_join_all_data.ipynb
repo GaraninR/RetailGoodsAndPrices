{
 "cells": [
  {
   "cell_type": "code",
   "execution_count": 56,
   "metadata": {},
   "outputs": [],
   "source": [
    "import pandas as pd\n",
    "import numpy as np"
   ]
  },
  {
   "cell_type": "code",
   "execution_count": 57,
   "metadata": {},
   "outputs": [],
   "source": [
    "orders = pd.read_csv('./orders/orders.csv', sep='\\t')\n",
    "subgroups = pd.read_csv('./normalized/02_subgroups.csv', sep='\\t')\n",
    "items = pd.read_csv('./normalized/04_items.csv', sep='\\t')\n",
    "retail_prices = pd.read_csv('./normalized/06_retail_prices.csv', sep='\\t')\n",
    "discount_cards = pd.read_csv('./orders/discount_cards.csv', sep='\\t')\n",
    "discount_cards['DiscountCardID'] = pd.to_numeric(discount_cards['DiscountCardID'])\n",
    "discount_cards = discount_cards.astype(np.int64)"
   ]
  },
  {
   "cell_type": "code",
   "execution_count": 58,
   "metadata": {},
   "outputs": [],
   "source": [
    "joined = pd.merge(orders, items, how='left', left_on=['ItemCode'], right_on=['Code'])\n",
    "joined = pd.merge(joined, subgroups, how='inner', left_on=['Subgroup_ID'], right_on=['ID'])\n",
    "joined = pd.merge(joined, retail_prices, how='inner', left_on=['ItemCode'], right_on=['Code'])\n",
    "joined = pd.merge(joined, discount_cards, how='left', left_on=['ID_x'], right_on=['OrderID'])\n",
    "joined.drop(['ID_y', 'Code_x', 'Item', 'Description', 'Subgroup', 'Code_y', 'OrderID'], axis=1, inplace=True) \n",
    "joined['DiscountCardID'] = pd.to_numeric(joined['DiscountCardID'])\n",
    "joined.rename(columns={'ID_x': 'ID'},  inplace=True)\n",
    "joined.reset_index(drop=True, inplace=True)\n",
    "joined.sort_values(by=['ID'], ascending=True, inplace=True)\n",
    "joined.to_csv('./orders/orders_full.csv', index=False, sep='\\t')"
   ]
  }
 ],
 "metadata": {
  "kernelspec": {
   "display_name": "retailgoodsandprices-GRxhhDj3-py3.10",
   "language": "python",
   "name": "python3"
  },
  "language_info": {
   "codemirror_mode": {
    "name": "ipython",
    "version": 3
   },
   "file_extension": ".py",
   "mimetype": "text/x-python",
   "name": "python",
   "nbconvert_exporter": "python",
   "pygments_lexer": "ipython3",
   "version": "3.10.11"
  },
  "orig_nbformat": 4
 },
 "nbformat": 4,
 "nbformat_minor": 2
}
