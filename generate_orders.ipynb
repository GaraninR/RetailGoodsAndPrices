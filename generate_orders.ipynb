{
 "cells": [
  {
   "cell_type": "code",
   "execution_count": 28,
   "metadata": {},
   "outputs": [],
   "source": [
    "from pathlib import Path\n",
    "\n",
    "Path('orders').mkdir(exist_ok=True)"
   ]
  },
  {
   "cell_type": "code",
   "execution_count": 12,
   "metadata": {},
   "outputs": [],
   "source": [
    "import pandas as pd\n",
    "import datetime\n",
    "import random"
   ]
  },
  {
   "cell_type": "code",
   "execution_count": 13,
   "metadata": {},
   "outputs": [],
   "source": [
    "sales_start_date = datetime.datetime(2020, 1, 1)\n",
    "sales_end_date = datetime.datetime(2022, 12, 31)"
   ]
  },
  {
   "cell_type": "code",
   "execution_count": 30,
   "metadata": {},
   "outputs": [],
   "source": [
    "orders_columns = ['Date', 'SalespointCode', 'ItemCode', 'Qty', 'DiscountCardID']\n",
    "orders = pd.DataFrame(columns=orders_columns)\n",
    "\n",
    "items = pd.read_csv('./normalized/04_items.csv', sep='\\t')\n",
    "salespoints = pd.read_excel('./data/SalesPoints.xlsx')\n",
    "discount_cards = pd.read_csv('./data/Discount_cards.csv')\n",
    "\n",
    "sales_date = sales_start_date\n",
    "\n",
    "while sales_date <= sales_end_date:\n",
    "    \n",
    "    if (sales_date.month == 12 and sales_date.day > 14):\n",
    "        number_of_orders = random.randint(15, 101)\n",
    "    elif (sales_date.month == 1 and sales_date.day < 14):\n",
    "        number_of_orders = random.randint(5, 47)\n",
    "    else:\n",
    "        number_of_orders = random.randint(15, 77)\n",
    "    \n",
    "    for i in range(0, number_of_orders):\n",
    "        \n",
    "        item_line = random.randint(0, len(items) - 1)\n",
    "        item_code = items['Code'][item_line]\n",
    "        \n",
    "        qty = 1\n",
    "        \n",
    "        if random.randint(1, 12) == 2: qty = 2\n",
    "        if random.randint(1, 24) == 3: qty = 3\n",
    "        if random.randint(1, 32) == 4: qty = 4\n",
    "        if random.randint(1, 64) == 5: qty = 5\n",
    "        if random.randint(1, 128) == 6: qty = 6\n",
    "        \n",
    "        salespoint_line = random.randint(0, len(salespoints) - 1)\n",
    "        salespoint_code = salespoints['Sales Point'][salespoint_line]\n",
    "        \n",
    "        \n",
    "        discount_card_id = discount_cards['id'][random.randint(0, len(discount_cards) - 1)] if random.randint(1, random.randint(1, 15)) < 4 else 0\n",
    "            \n",
    "        new_order = pd.DataFrame([{\n",
    "            'Date': sales_date, \n",
    "            'SalespointCode': salespoint_code, \n",
    "            'ItemCode': item_code,\n",
    "            'Qty': qty,\n",
    "            'DiscountCardID': discount_card_id if discount_card_id != 0 else None}])\n",
    "        \n",
    "        orders = pd.concat([orders, new_order], ignore_index=True)\n",
    "    sales_date += datetime.timedelta(days=1)\n",
    "    \n",
    "\n",
    "orders.to_csv('./orders/orders.csv', sep='\\t')"
   ]
  }
 ],
 "metadata": {
  "kernelspec": {
   "display_name": "retailgoodsandprices-GRxhhDj3-py3.10",
   "language": "python",
   "name": "python3"
  },
  "language_info": {
   "codemirror_mode": {
    "name": "ipython",
    "version": 3
   },
   "file_extension": ".py",
   "mimetype": "text/x-python",
   "name": "python",
   "nbconvert_exporter": "python",
   "pygments_lexer": "ipython3",
   "version": "3.10.11"
  },
  "orig_nbformat": 4
 },
 "nbformat": 4,
 "nbformat_minor": 2
}
