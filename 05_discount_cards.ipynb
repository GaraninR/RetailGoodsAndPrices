{
 "cells": [
  {
   "cell_type": "code",
   "execution_count": 7,
   "metadata": {},
   "outputs": [],
   "source": [
    "import pandas as pd\n",
    "import random"
   ]
  },
  {
   "cell_type": "code",
   "execution_count": 8,
   "metadata": {},
   "outputs": [],
   "source": [
    "orders = pd.read_csv('./orders/orders.csv', sep='\\t')\n",
    "discount_cards = pd.read_csv('./data/Discount_cards.csv')\n",
    "\n",
    "orders_with_discount_cards_columns = ['OrderID', 'DiscountCardID']\n",
    "orders_with_discount_cards = pd.DataFrame(columns=orders_with_discount_cards_columns)\n",
    "\n",
    "for index, row in orders.iterrows():\n",
    "    order_id = row['ID']\n",
    "    \n",
    "    discount_card_id = discount_cards['id'][random.randint(0, len(discount_cards) - 1)] if random.randint(1, random.randint(1, 25)) < 4 else 0\n",
    "    \n",
    "    if discount_card_id != 0:\n",
    "        new_order_discount_card_record = pd.DataFrame([{\n",
    "            'OrderID': order_id, \n",
    "            'DiscountCardID': discount_card_id}])\n",
    "        orders_with_discount_cards = pd.concat([orders_with_discount_cards, new_order_discount_card_record], ignore_index=True)\n",
    "\n",
    "orders_with_discount_cards.to_csv('./orders/discount_cards.csv', sep='\\t', index=False, columns=orders_with_discount_cards_columns)"
   ]
  }
 ],
 "metadata": {
  "kernelspec": {
   "display_name": "retailgoodsandprices-GRxhhDj3-py3.10",
   "language": "python",
   "name": "python3"
  },
  "language_info": {
   "codemirror_mode": {
    "name": "ipython",
    "version": 3
   },
   "file_extension": ".py",
   "mimetype": "text/x-python",
   "name": "python",
   "nbconvert_exporter": "python",
   "pygments_lexer": "ipython3",
   "version": "3.10.11"
  },
  "orig_nbformat": 4
 },
 "nbformat": 4,
 "nbformat_minor": 2
}
